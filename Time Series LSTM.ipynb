{
  "cells": [
    {
      "cell_type": "markdown",
      "id": "QLg5ZonYCxh7",
      "metadata": {
        "id": "QLg5ZonYCxh7"
      },
      "source": [
        "**Importing Libraries**"
      ]
    },
    {
      "cell_type": "code",
      "execution_count": 1,
      "id": "e315f51b",
      "metadata": {
        "id": "e315f51b"
      },
      "outputs": [],
      "source": [
        "import pandas as pd\n",
        "import numpy as np\n",
        "from matplotlib import pyplot as plt\n",
        "%matplotlib inline\n",
        "import matplotlib"
      ]
    },
    {
      "cell_type": "code",
      "execution_count": 2,
      "id": "23e09038",
      "metadata": {
        "id": "23e09038",
        "colab": {
          "base_uri": "https://localhost:8080/",
          "height": 206
        },
        "outputId": "2d4965d2-57a6-4f71-cb6e-859cbc18af7b"
      },
      "outputs": [
        {
          "output_type": "execute_result",
          "data": {
            "text/plain": [
              "         Date  Indian rupee (INR) per gram\n",
              "0  01-01-1979                     0.000000\n",
              "1  02-01-1979                    57.641466\n",
              "2  03-01-1979                    57.940468\n",
              "3  04-01-1979                    58.248794\n",
              "4  05-01-1979                    59.272152"
            ],
            "text/html": [
              "\n",
              "  <div id=\"df-527a2916-0bf7-4917-9427-b0724147db23\" class=\"colab-df-container\">\n",
              "    <div>\n",
              "<style scoped>\n",
              "    .dataframe tbody tr th:only-of-type {\n",
              "        vertical-align: middle;\n",
              "    }\n",
              "\n",
              "    .dataframe tbody tr th {\n",
              "        vertical-align: top;\n",
              "    }\n",
              "\n",
              "    .dataframe thead th {\n",
              "        text-align: right;\n",
              "    }\n",
              "</style>\n",
              "<table border=\"1\" class=\"dataframe\">\n",
              "  <thead>\n",
              "    <tr style=\"text-align: right;\">\n",
              "      <th></th>\n",
              "      <th>Date</th>\n",
              "      <th>Indian rupee (INR) per gram</th>\n",
              "    </tr>\n",
              "  </thead>\n",
              "  <tbody>\n",
              "    <tr>\n",
              "      <th>0</th>\n",
              "      <td>01-01-1979</td>\n",
              "      <td>0.000000</td>\n",
              "    </tr>\n",
              "    <tr>\n",
              "      <th>1</th>\n",
              "      <td>02-01-1979</td>\n",
              "      <td>57.641466</td>\n",
              "    </tr>\n",
              "    <tr>\n",
              "      <th>2</th>\n",
              "      <td>03-01-1979</td>\n",
              "      <td>57.940468</td>\n",
              "    </tr>\n",
              "    <tr>\n",
              "      <th>3</th>\n",
              "      <td>04-01-1979</td>\n",
              "      <td>58.248794</td>\n",
              "    </tr>\n",
              "    <tr>\n",
              "      <th>4</th>\n",
              "      <td>05-01-1979</td>\n",
              "      <td>59.272152</td>\n",
              "    </tr>\n",
              "  </tbody>\n",
              "</table>\n",
              "</div>\n",
              "    <div class=\"colab-df-buttons\">\n",
              "\n",
              "  <div class=\"colab-df-container\">\n",
              "    <button class=\"colab-df-convert\" onclick=\"convertToInteractive('df-527a2916-0bf7-4917-9427-b0724147db23')\"\n",
              "            title=\"Convert this dataframe to an interactive table.\"\n",
              "            style=\"display:none;\">\n",
              "\n",
              "  <svg xmlns=\"http://www.w3.org/2000/svg\" height=\"24px\" viewBox=\"0 -960 960 960\">\n",
              "    <path d=\"M120-120v-720h720v720H120Zm60-500h600v-160H180v160Zm220 220h160v-160H400v160Zm0 220h160v-160H400v160ZM180-400h160v-160H180v160Zm440 0h160v-160H620v160ZM180-180h160v-160H180v160Zm440 0h160v-160H620v160Z\"/>\n",
              "  </svg>\n",
              "    </button>\n",
              "\n",
              "  <style>\n",
              "    .colab-df-container {\n",
              "      display:flex;\n",
              "      gap: 12px;\n",
              "    }\n",
              "\n",
              "    .colab-df-convert {\n",
              "      background-color: #E8F0FE;\n",
              "      border: none;\n",
              "      border-radius: 50%;\n",
              "      cursor: pointer;\n",
              "      display: none;\n",
              "      fill: #1967D2;\n",
              "      height: 32px;\n",
              "      padding: 0 0 0 0;\n",
              "      width: 32px;\n",
              "    }\n",
              "\n",
              "    .colab-df-convert:hover {\n",
              "      background-color: #E2EBFA;\n",
              "      box-shadow: 0px 1px 2px rgba(60, 64, 67, 0.3), 0px 1px 3px 1px rgba(60, 64, 67, 0.15);\n",
              "      fill: #174EA6;\n",
              "    }\n",
              "\n",
              "    .colab-df-buttons div {\n",
              "      margin-bottom: 4px;\n",
              "    }\n",
              "\n",
              "    [theme=dark] .colab-df-convert {\n",
              "      background-color: #3B4455;\n",
              "      fill: #D2E3FC;\n",
              "    }\n",
              "\n",
              "    [theme=dark] .colab-df-convert:hover {\n",
              "      background-color: #434B5C;\n",
              "      box-shadow: 0px 1px 3px 1px rgba(0, 0, 0, 0.15);\n",
              "      filter: drop-shadow(0px 1px 2px rgba(0, 0, 0, 0.3));\n",
              "      fill: #FFFFFF;\n",
              "    }\n",
              "  </style>\n",
              "\n",
              "    <script>\n",
              "      const buttonEl =\n",
              "        document.querySelector('#df-527a2916-0bf7-4917-9427-b0724147db23 button.colab-df-convert');\n",
              "      buttonEl.style.display =\n",
              "        google.colab.kernel.accessAllowed ? 'block' : 'none';\n",
              "\n",
              "      async function convertToInteractive(key) {\n",
              "        const element = document.querySelector('#df-527a2916-0bf7-4917-9427-b0724147db23');\n",
              "        const dataTable =\n",
              "          await google.colab.kernel.invokeFunction('convertToInteractive',\n",
              "                                                    [key], {});\n",
              "        if (!dataTable) return;\n",
              "\n",
              "        const docLinkHtml = 'Like what you see? Visit the ' +\n",
              "          '<a target=\"_blank\" href=https://colab.research.google.com/notebooks/data_table.ipynb>data table notebook</a>'\n",
              "          + ' to learn more about interactive tables.';\n",
              "        element.innerHTML = '';\n",
              "        dataTable['output_type'] = 'display_data';\n",
              "        await google.colab.output.renderOutput(dataTable, element);\n",
              "        const docLink = document.createElement('div');\n",
              "        docLink.innerHTML = docLinkHtml;\n",
              "        element.appendChild(docLink);\n",
              "      }\n",
              "    </script>\n",
              "  </div>\n",
              "\n",
              "\n",
              "<div id=\"df-20b3b3b3-de76-46ce-b55a-79226ee6c5e6\">\n",
              "  <button class=\"colab-df-quickchart\" onclick=\"quickchart('df-20b3b3b3-de76-46ce-b55a-79226ee6c5e6')\"\n",
              "            title=\"Suggest charts\"\n",
              "            style=\"display:none;\">\n",
              "\n",
              "<svg xmlns=\"http://www.w3.org/2000/svg\" height=\"24px\"viewBox=\"0 0 24 24\"\n",
              "     width=\"24px\">\n",
              "    <g>\n",
              "        <path d=\"M19 3H5c-1.1 0-2 .9-2 2v14c0 1.1.9 2 2 2h14c1.1 0 2-.9 2-2V5c0-1.1-.9-2-2-2zM9 17H7v-7h2v7zm4 0h-2V7h2v10zm4 0h-2v-4h2v4z\"/>\n",
              "    </g>\n",
              "</svg>\n",
              "  </button>\n",
              "\n",
              "<style>\n",
              "  .colab-df-quickchart {\n",
              "      --bg-color: #E8F0FE;\n",
              "      --fill-color: #1967D2;\n",
              "      --hover-bg-color: #E2EBFA;\n",
              "      --hover-fill-color: #174EA6;\n",
              "      --disabled-fill-color: #AAA;\n",
              "      --disabled-bg-color: #DDD;\n",
              "  }\n",
              "\n",
              "  [theme=dark] .colab-df-quickchart {\n",
              "      --bg-color: #3B4455;\n",
              "      --fill-color: #D2E3FC;\n",
              "      --hover-bg-color: #434B5C;\n",
              "      --hover-fill-color: #FFFFFF;\n",
              "      --disabled-bg-color: #3B4455;\n",
              "      --disabled-fill-color: #666;\n",
              "  }\n",
              "\n",
              "  .colab-df-quickchart {\n",
              "    background-color: var(--bg-color);\n",
              "    border: none;\n",
              "    border-radius: 50%;\n",
              "    cursor: pointer;\n",
              "    display: none;\n",
              "    fill: var(--fill-color);\n",
              "    height: 32px;\n",
              "    padding: 0;\n",
              "    width: 32px;\n",
              "  }\n",
              "\n",
              "  .colab-df-quickchart:hover {\n",
              "    background-color: var(--hover-bg-color);\n",
              "    box-shadow: 0 1px 2px rgba(60, 64, 67, 0.3), 0 1px 3px 1px rgba(60, 64, 67, 0.15);\n",
              "    fill: var(--button-hover-fill-color);\n",
              "  }\n",
              "\n",
              "  .colab-df-quickchart-complete:disabled,\n",
              "  .colab-df-quickchart-complete:disabled:hover {\n",
              "    background-color: var(--disabled-bg-color);\n",
              "    fill: var(--disabled-fill-color);\n",
              "    box-shadow: none;\n",
              "  }\n",
              "\n",
              "  .colab-df-spinner {\n",
              "    border: 2px solid var(--fill-color);\n",
              "    border-color: transparent;\n",
              "    border-bottom-color: var(--fill-color);\n",
              "    animation:\n",
              "      spin 1s steps(1) infinite;\n",
              "  }\n",
              "\n",
              "  @keyframes spin {\n",
              "    0% {\n",
              "      border-color: transparent;\n",
              "      border-bottom-color: var(--fill-color);\n",
              "      border-left-color: var(--fill-color);\n",
              "    }\n",
              "    20% {\n",
              "      border-color: transparent;\n",
              "      border-left-color: var(--fill-color);\n",
              "      border-top-color: var(--fill-color);\n",
              "    }\n",
              "    30% {\n",
              "      border-color: transparent;\n",
              "      border-left-color: var(--fill-color);\n",
              "      border-top-color: var(--fill-color);\n",
              "      border-right-color: var(--fill-color);\n",
              "    }\n",
              "    40% {\n",
              "      border-color: transparent;\n",
              "      border-right-color: var(--fill-color);\n",
              "      border-top-color: var(--fill-color);\n",
              "    }\n",
              "    60% {\n",
              "      border-color: transparent;\n",
              "      border-right-color: var(--fill-color);\n",
              "    }\n",
              "    80% {\n",
              "      border-color: transparent;\n",
              "      border-right-color: var(--fill-color);\n",
              "      border-bottom-color: var(--fill-color);\n",
              "    }\n",
              "    90% {\n",
              "      border-color: transparent;\n",
              "      border-bottom-color: var(--fill-color);\n",
              "    }\n",
              "  }\n",
              "</style>\n",
              "\n",
              "  <script>\n",
              "    async function quickchart(key) {\n",
              "      const quickchartButtonEl =\n",
              "        document.querySelector('#' + key + ' button');\n",
              "      quickchartButtonEl.disabled = true;  // To prevent multiple clicks.\n",
              "      quickchartButtonEl.classList.add('colab-df-spinner');\n",
              "      try {\n",
              "        const charts = await google.colab.kernel.invokeFunction(\n",
              "            'suggestCharts', [key], {});\n",
              "      } catch (error) {\n",
              "        console.error('Error during call to suggestCharts:', error);\n",
              "      }\n",
              "      quickchartButtonEl.classList.remove('colab-df-spinner');\n",
              "      quickchartButtonEl.classList.add('colab-df-quickchart-complete');\n",
              "    }\n",
              "    (() => {\n",
              "      let quickchartButtonEl =\n",
              "        document.querySelector('#df-20b3b3b3-de76-46ce-b55a-79226ee6c5e6 button');\n",
              "      quickchartButtonEl.style.display =\n",
              "        google.colab.kernel.accessAllowed ? 'block' : 'none';\n",
              "    })();\n",
              "  </script>\n",
              "</div>\n",
              "\n",
              "    </div>\n",
              "  </div>\n"
            ],
            "application/vnd.google.colaboratory.intrinsic+json": {
              "type": "dataframe",
              "variable_name": "df1",
              "summary": "{\n  \"name\": \"df1\",\n  \"rows\": 11290,\n  \"fields\": [\n    {\n      \"column\": \"Date\",\n      \"properties\": {\n        \"dtype\": \"string\",\n        \"num_unique_values\": 11290,\n        \"samples\": [\n          \"15-09-1982\",\n          \"29-07-1994\",\n          \"18-08-2005\"\n        ],\n        \"semantic_type\": \"\",\n        \"description\": \"\"\n      }\n    },\n    {\n      \"column\": \"Indian rupee (INR) per gram\",\n      \"properties\": {\n        \"dtype\": \"number\",\n        \"std\": 1222.1649615344575,\n        \"min\": 0.0,\n        \"max\": 5041.741507,\n        \"num_unique_values\": 11024,\n        \"samples\": [\n          967.4587247,\n          102.7492849,\n          431.1498707\n        ],\n        \"semantic_type\": \"\",\n        \"description\": \"\"\n      }\n    }\n  ]\n}"
            }
          },
          "metadata": {},
          "execution_count": 2
        }
      ],
      "source": [
        "df1 = pd.read_csv(\"/content/Daily_Gold_Price.csv\")\n",
        "df1.head()"
      ]
    },
    {
      "cell_type": "markdown",
      "id": "E7SE4p_WHk-v",
      "metadata": {
        "id": "E7SE4p_WHk-v"
      },
      "source": [
        "**Data Analysis and splitting the data**"
      ]
    },
    {
      "cell_type": "code",
      "execution_count": 3,
      "id": "yRE7X5FfSeqt",
      "metadata": {
        "id": "yRE7X5FfSeqt",
        "colab": {
          "base_uri": "https://localhost:8080/"
        },
        "outputId": "eea44430-f302-4a06-f991-cdcb0aedc465"
      },
      "outputs": [
        {
          "output_type": "execute_result",
          "data": {
            "text/plain": [
              "Date                           0\n",
              "Indian rupee (INR) per gram    0\n",
              "dtype: int64"
            ]
          },
          "metadata": {},
          "execution_count": 3
        }
      ],
      "source": [
        "df1.head()\n",
        "df1.isnull().sum()"
      ]
    },
    {
      "cell_type": "code",
      "execution_count": 4,
      "id": "ffb74343",
      "metadata": {
        "id": "ffb74343"
      },
      "outputs": [],
      "source": [
        "df2 = df1.drop(columns=['Date'])"
      ]
    },
    {
      "cell_type": "code",
      "execution_count": 5,
      "id": "2d8aa241",
      "metadata": {
        "id": "2d8aa241"
      },
      "outputs": [],
      "source": [
        "from sklearn.preprocessing import MinMaxScaler\n",
        "scaler=MinMaxScaler(feature_range=(0,1))\n",
        "df2=scaler.fit_transform(np.array(df2).reshape(-1,1))"
      ]
    },
    {
      "cell_type": "code",
      "execution_count": 6,
      "id": "B713sYwzOf-r",
      "metadata": {
        "id": "B713sYwzOf-r",
        "colab": {
          "base_uri": "https://localhost:8080/"
        },
        "outputId": "774ae770-98db-470f-ebfb-d0838cd6dbce"
      },
      "outputs": [
        {
          "output_type": "execute_result",
          "data": {
            "text/plain": [
              "array([[0.        ],\n",
              "       [0.01143285],\n",
              "       [0.01149215],\n",
              "       ...,\n",
              "       [0.93245344],\n",
              "       [0.936005  ],\n",
              "       [0.93983816]])"
            ]
          },
          "metadata": {},
          "execution_count": 6
        }
      ],
      "source": [
        "df2"
      ]
    },
    {
      "cell_type": "code",
      "execution_count": 7,
      "id": "1a123c80",
      "metadata": {
        "id": "1a123c80"
      },
      "outputs": [],
      "source": [
        "training_size=int(len(df2)*0.95)\n",
        "test_size=len(df2)-training_size\n",
        "train_data,test_data=df2[0:training_size,:],df2[training_size:len(df2),:1]"
      ]
    },
    {
      "cell_type": "code",
      "execution_count": 8,
      "id": "IQfKh3_yTwhE",
      "metadata": {
        "id": "IQfKh3_yTwhE",
        "colab": {
          "base_uri": "https://localhost:8080/"
        },
        "outputId": "6c4445de-e15c-4847-d05a-5e8b43f17e4b"
      },
      "outputs": [
        {
          "output_type": "execute_result",
          "data": {
            "text/plain": [
              "(565, 1)"
            ]
          },
          "metadata": {},
          "execution_count": 8
        }
      ],
      "source": [
        "train_data.shape\n",
        "test_data.shape"
      ]
    },
    {
      "cell_type": "markdown",
      "id": "tYDEjWEoZauH",
      "metadata": {
        "id": "tYDEjWEoZauH"
      },
      "source": [
        "**Data Preprocessing**"
      ]
    },
    {
      "cell_type": "code",
      "execution_count": 9,
      "id": "0dc8a949",
      "metadata": {
        "id": "0dc8a949"
      },
      "outputs": [],
      "source": [
        "import numpy\n",
        "# convert an array of values into a dataset matrix\n",
        "def create_dataset(dataset, time_step=1):\n",
        "\tdataX, dataY = [], []\n",
        "\tfor i in range(len(dataset)-time_step-1):\n",
        "\t\ta = dataset[i:(i+time_step), 0]   ###i=0, 0,1,2,3-----99   100\n",
        "\t\tdataX.append(a)\n",
        "\t\tdataY.append(dataset[i + time_step, 0])\n",
        "\treturn numpy.array(dataX), numpy.array(dataY)"
      ]
    },
    {
      "cell_type": "code",
      "execution_count": 10,
      "id": "39785275",
      "metadata": {
        "id": "39785275"
      },
      "outputs": [],
      "source": [
        "# reshape into X=t,t+1,t+2,t+3 and Y=t+4\n",
        "time_step = 100\n",
        "X_train, y_train = create_dataset(train_data, time_step)\n",
        "X_test, ytest = create_dataset(test_data, time_step)"
      ]
    },
    {
      "cell_type": "code",
      "execution_count": 11,
      "id": "mLHLpdmpcBlC",
      "metadata": {
        "id": "mLHLpdmpcBlC",
        "colab": {
          "base_uri": "https://localhost:8080/"
        },
        "outputId": "9ba49344-ea4a-4b7e-bccb-7ad7983ecd48"
      },
      "outputs": [
        {
          "output_type": "execute_result",
          "data": {
            "text/plain": [
              "array([[0.        , 0.01143285, 0.01149215, ..., 0.01333215, 0.01343762,\n",
              "        0.0134901 ],\n",
              "       [0.01143285, 0.01149215, 0.01155331, ..., 0.01343762, 0.0134901 ,\n",
              "        0.01370348],\n",
              "       [0.01149215, 0.01155331, 0.01175629, ..., 0.0134901 , 0.01370348,\n",
              "        0.01391047],\n",
              "       ...,\n",
              "       [0.68756341, 0.68304511, 0.68256831, ..., 0.71951397, 0.72087525,\n",
              "        0.71637424],\n",
              "       [0.68304511, 0.68256831, 0.67954648, ..., 0.72087525, 0.71637424,\n",
              "        0.7082679 ],\n",
              "       [0.68256831, 0.67954648, 0.68852243, ..., 0.71637424, 0.7082679 ,\n",
              "        0.70542775]])"
            ]
          },
          "metadata": {},
          "execution_count": 11
        }
      ],
      "source": [
        "X_train"
      ]
    },
    {
      "cell_type": "code",
      "execution_count": 12,
      "id": "8o7UzuZEcFhl",
      "metadata": {
        "id": "8o7UzuZEcFhl",
        "colab": {
          "base_uri": "https://localhost:8080/"
        },
        "outputId": "4cb4adfa-024d-4282-d9b5-cc66c7ec0b5b"
      },
      "outputs": [
        {
          "output_type": "execute_result",
          "data": {
            "text/plain": [
              "array([0.01370348, 0.01391047, 0.0137388 , ..., 0.7082679 , 0.70542775,\n",
              "       0.70975736])"
            ]
          },
          "metadata": {},
          "execution_count": 12
        }
      ],
      "source": [
        "y_train"
      ]
    },
    {
      "cell_type": "code",
      "execution_count": 13,
      "id": "005e586d",
      "metadata": {
        "id": "005e586d",
        "colab": {
          "base_uri": "https://localhost:8080/"
        },
        "outputId": "97e1ea2c-fb0c-4a12-9aeb-2e1e57229f8c"
      },
      "outputs": [
        {
          "output_type": "stream",
          "name": "stdout",
          "text": [
            "(10624, 100)\n",
            "(10624,)\n"
          ]
        },
        {
          "output_type": "execute_result",
          "data": {
            "text/plain": [
              "(None, None)"
            ]
          },
          "metadata": {},
          "execution_count": 13
        }
      ],
      "source": [
        "print(X_train.shape), print(y_train.shape)"
      ]
    },
    {
      "cell_type": "markdown",
      "id": "bJLSlRVajL9P",
      "metadata": {
        "id": "bJLSlRVajL9P"
      },
      "source": [
        "# LSTM"
      ]
    },
    {
      "cell_type": "code",
      "execution_count": 14,
      "id": "5a9aae2a",
      "metadata": {
        "id": "5a9aae2a"
      },
      "outputs": [],
      "source": [
        "X_train =X_train.reshape(X_train.shape[0],X_train.shape[1] , 1)\n",
        "X_test = X_test.reshape(X_test.shape[0],X_test.shape[1] , 1)"
      ]
    },
    {
      "cell_type": "code",
      "execution_count": 15,
      "id": "869c9a75",
      "metadata": {
        "id": "869c9a75"
      },
      "outputs": [],
      "source": [
        "from tensorflow.keras.models import Sequential\n",
        "\n",
        "from tensorflow.keras.layers import Dense\n",
        "from tensorflow.keras.layers import LSTM\n",
        "model=Sequential()\n",
        "model.add(LSTM(50,return_sequences=True,input_shape=(100,1)))\n",
        "model.add(LSTM(50,return_sequences=True))\n",
        "model.add(LSTM(50))\n",
        "model.add(Dense(1))\n",
        "model.compile(loss='mean_squared_error',optimizer='adam')"
      ]
    },
    {
      "cell_type": "code",
      "execution_count": 16,
      "id": "baa8cd08",
      "metadata": {
        "id": "baa8cd08",
        "colab": {
          "base_uri": "https://localhost:8080/"
        },
        "outputId": "68e97dc7-cb42-47c0-de0b-45b011265bcb"
      },
      "outputs": [
        {
          "output_type": "stream",
          "name": "stdout",
          "text": [
            "Epoch 1/31\n",
            "166/166 [==============================] - 32s 165ms/step - loss: 0.0027 - val_loss: 0.0011\n",
            "Epoch 2/31\n",
            "166/166 [==============================] - 24s 146ms/step - loss: 6.4108e-05 - val_loss: 0.0014\n",
            "Epoch 3/31\n",
            "166/166 [==============================] - 25s 152ms/step - loss: 6.1223e-05 - val_loss: 9.3645e-04\n",
            "Epoch 4/31\n",
            "166/166 [==============================] - 23s 139ms/step - loss: 6.6823e-05 - val_loss: 0.0021\n",
            "Epoch 5/31\n",
            "166/166 [==============================] - 25s 148ms/step - loss: 6.1037e-05 - val_loss: 0.0016\n",
            "Epoch 6/31\n",
            "166/166 [==============================] - 25s 152ms/step - loss: 5.3546e-05 - val_loss: 0.0012\n",
            "Epoch 7/31\n",
            "166/166 [==============================] - 26s 155ms/step - loss: 5.2432e-05 - val_loss: 4.9548e-04\n",
            "Epoch 8/31\n",
            "166/166 [==============================] - 24s 143ms/step - loss: 5.5756e-05 - val_loss: 7.4594e-04\n",
            "Epoch 9/31\n",
            "166/166 [==============================] - 23s 140ms/step - loss: 5.3199e-05 - val_loss: 8.2637e-04\n",
            "Epoch 10/31\n",
            "166/166 [==============================] - 24s 147ms/step - loss: 4.5257e-05 - val_loss: 3.0371e-04\n",
            "Epoch 11/31\n",
            "166/166 [==============================] - 24s 147ms/step - loss: 5.1373e-05 - val_loss: 3.3022e-04\n",
            "Epoch 12/31\n",
            "166/166 [==============================] - 24s 145ms/step - loss: 4.1556e-05 - val_loss: 5.5150e-04\n",
            "Epoch 13/31\n",
            "166/166 [==============================] - 22s 136ms/step - loss: 4.2648e-05 - val_loss: 2.7479e-04\n",
            "Epoch 14/31\n",
            "166/166 [==============================] - 25s 152ms/step - loss: 4.6352e-05 - val_loss: 6.3802e-04\n",
            "Epoch 15/31\n",
            "166/166 [==============================] - 26s 156ms/step - loss: 4.1250e-05 - val_loss: 5.3849e-04\n",
            "Epoch 16/31\n",
            "166/166 [==============================] - 24s 145ms/step - loss: 3.5191e-05 - val_loss: 3.6114e-04\n",
            "Epoch 17/31\n",
            "166/166 [==============================] - 25s 148ms/step - loss: 3.1284e-05 - val_loss: 2.8331e-04\n",
            "Epoch 18/31\n",
            "166/166 [==============================] - 23s 140ms/step - loss: 3.3113e-05 - val_loss: 2.1748e-04\n",
            "Epoch 19/31\n",
            "166/166 [==============================] - 24s 146ms/step - loss: 2.6388e-05 - val_loss: 1.8720e-04\n",
            "Epoch 20/31\n",
            "166/166 [==============================] - 25s 151ms/step - loss: 3.7130e-05 - val_loss: 2.6640e-04\n",
            "Epoch 21/31\n",
            "166/166 [==============================] - 25s 150ms/step - loss: 3.0581e-05 - val_loss: 1.8167e-04\n",
            "Epoch 22/31\n",
            "166/166 [==============================] - 24s 142ms/step - loss: 2.3670e-05 - val_loss: 1.6026e-04\n",
            "Epoch 23/31\n",
            "166/166 [==============================] - 24s 144ms/step - loss: 2.3487e-05 - val_loss: 1.6997e-04\n",
            "Epoch 24/31\n",
            "166/166 [==============================] - 27s 160ms/step - loss: 2.2305e-05 - val_loss: 2.1389e-04\n",
            "Epoch 25/31\n",
            "166/166 [==============================] - 25s 150ms/step - loss: 1.9991e-05 - val_loss: 3.0909e-04\n",
            "Epoch 26/31\n",
            "166/166 [==============================] - 25s 149ms/step - loss: 2.4024e-05 - val_loss: 0.0012\n",
            "Epoch 27/31\n",
            "166/166 [==============================] - 25s 148ms/step - loss: 2.4112e-05 - val_loss: 2.8543e-04\n",
            "Epoch 28/31\n",
            "166/166 [==============================] - 23s 139ms/step - loss: 1.9332e-05 - val_loss: 1.4442e-04\n",
            "Epoch 29/31\n",
            "166/166 [==============================] - 25s 148ms/step - loss: 2.0746e-05 - val_loss: 2.2749e-04\n",
            "Epoch 30/31\n",
            "166/166 [==============================] - 25s 148ms/step - loss: 2.5290e-05 - val_loss: 2.9090e-04\n",
            "Epoch 31/31\n",
            "166/166 [==============================] - 25s 149ms/step - loss: 1.9912e-05 - val_loss: 2.8121e-04\n"
          ]
        },
        {
          "output_type": "execute_result",
          "data": {
            "text/plain": [
              "<keras.src.callbacks.History at 0x7bf2f8532140>"
            ]
          },
          "metadata": {},
          "execution_count": 16
        }
      ],
      "source": [
        "model.fit(X_train,y_train,validation_data=(X_test,ytest),epochs=31,batch_size=64,verbose=1)"
      ]
    },
    {
      "cell_type": "code",
      "execution_count": 17,
      "id": "62dabcc0",
      "metadata": {
        "id": "62dabcc0",
        "colab": {
          "base_uri": "https://localhost:8080/"
        },
        "outputId": "b46930e0-d3ae-4070-aa8a-27453fedf22d"
      },
      "outputs": [
        {
          "output_type": "stream",
          "name": "stdout",
          "text": [
            "332/332 [==============================] - 13s 37ms/step\n",
            "15/15 [==============================] - 2s 33ms/step\n"
          ]
        }
      ],
      "source": [
        "### Lets Do the prediction and check performance metrics\n",
        "train_predict=model.predict(X_train)\n",
        "test_predict=model.predict(X_test)"
      ]
    },
    {
      "cell_type": "code",
      "execution_count": 18,
      "id": "b9fccd41",
      "metadata": {
        "id": "b9fccd41"
      },
      "outputs": [],
      "source": [
        "##Transformback to original form\n",
        "train_predict=scaler.inverse_transform(train_predict)\n",
        "test_predict=scaler.inverse_transform(test_predict)"
      ]
    },
    {
      "cell_type": "code",
      "execution_count": 19,
      "id": "be5b24de",
      "metadata": {
        "id": "be5b24de",
        "colab": {
          "base_uri": "https://localhost:8080/",
          "height": 430
        },
        "outputId": "a26ac545-d839-4e68-cfb5-26202f5ab7bd"
      },
      "outputs": [
        {
          "output_type": "display_data",
          "data": {
            "text/plain": [
              "<Figure size 640x480 with 1 Axes>"
            ],
            "image/png": "[encoded data removed]"
          },
          "metadata": {}
        }
      ],
      "source": [
        "### Plotting\n",
        "# shift train predictions for plotting\n",
        "look_back=100\n",
        "trainPredictPlot = numpy.empty_like(df2)\n",
        "trainPredictPlot[:, :] = np.nan\n",
        "trainPredictPlot[look_back:len(train_predict)+look_back, :] = train_predict\n",
        "# shift test predictions for plotting\n",
        "testPredictPlot = numpy.empty_like(df2)\n",
        "testPredictPlot[:, :] = numpy.nan\n",
        "testPredictPlot[len(train_predict)+(look_back*2)+1:len(df2)-1, :] = test_predict\n",
        "# plot baseline and predictions\n",
        "plt.plot(scaler.inverse_transform(df2))\n",
        "plt.plot(trainPredictPlot)\n",
        "plt.plot(testPredictPlot)\n",
        "plt.show()"
      ]
    }
  ],
  "metadata": {
    "colab": {
      "provenance": []
    },
    "kernelspec": {
      "display_name": "Python 3",
      "language": "python",
      "name": "python3"
    },
    "language_info": {
      "codemirror_mode": {
        "name": "ipython",
        "version": 3
      },
      "file_extension": ".py",
      "mimetype": "text/x-python",
      "name": "python",
      "nbconvert_exporter": "python",
      "pygments_lexer": "ipython3",
      "version": "3.8.8"
    }
  },
  "nbformat": 4,
  "nbformat_minor": 5
}